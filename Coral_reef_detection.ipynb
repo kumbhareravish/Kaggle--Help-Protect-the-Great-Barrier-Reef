{
  "nbformat": 4,
  "nbformat_minor": 0,
  "metadata": {
    "colab": {
      "name": "Coral_reef_detection.ipynb",
      "provenance": [],
      "collapsed_sections": []
    },
    "kernelspec": {
      "name": "python3",
      "display_name": "Python 3"
    },
    "language_info": {
      "name": "python"
    }
  },
  "cells": [
    {
      "cell_type": "code",
      "source": [
        "! mkdir -p ~/.kaggle\n",
        "! cp kaggle.json ~/.kaggle/\n",
        "! chmod 600 ~/.kaggle/kaggle.json"
      ],
      "metadata": {
        "id": "IYWmqV6-LZ9y"
      },
      "execution_count": 1,
      "outputs": []
    },
    {
      "cell_type": "code",
      "source": [
        "!pip uninstall -y kaggle\n",
        "!pip install --upgrade pip\n",
        "!pip install kaggle==1.5.12"
      ],
      "metadata": {
        "id": "k_CYLT6fNfVH"
      },
      "execution_count": null,
      "outputs": []
    },
    {
      "cell_type": "code",
      "execution_count": 3,
      "metadata": {
        "id": "_aRRVELm_PX4",
        "colab": {
          "base_uri": "https://localhost:8080/"
        },
        "outputId": "fe862f26-0fe4-46a1-e40c-382a4f2e4cf3"
      },
      "outputs": [
        {
          "output_type": "stream",
          "name": "stdout",
          "text": [
            "Downloading tensorflow-great-barrier-reef.zip to /content\n",
            "100% 14.2G/14.2G [05:33<00:00, 44.5MB/s]\n",
            "100% 14.2G/14.2G [05:33<00:00, 45.6MB/s]\n"
          ]
        }
      ],
      "source": [
        "!kaggle competitions download -c tensorflow-great-barrier-reef"
      ]
    },
    {
      "cell_type": "code",
      "source": [
        "!unzip /content/tensorflow-great-barrier-reef.zip -d /content/data"
      ],
      "metadata": {
        "id": "qCpztUeUAjq8"
      },
      "execution_count": null,
      "outputs": []
    },
    {
      "cell_type": "code",
      "source": [
        "!git clone https://github.com/ultralytics/yolov5  # clone\n",
        "!cd yolov5\n",
        "!pip install -r /content/yolov5/requirements.txt  # install"
      ],
      "metadata": {
        "id": "Hz7VqU58LOsR"
      },
      "execution_count": null,
      "outputs": []
    },
    {
      "cell_type": "code",
      "source": [
        "import pandas as pd\n",
        "from IPython.display import display\n",
        "import numpy\n",
        "import cv2\n",
        "import matplotlib.pyplot as plt"
      ],
      "metadata": {
        "id": "e8Y2_EPUOtN-"
      },
      "execution_count": 8,
      "outputs": []
    },
    {
      "cell_type": "code",
      "source": [
        "train = pd.read_csv(\"/content/data/train.csv\", index_col=\"image_id\")\n",
        "train.head()"
      ],
      "metadata": {
        "id": "W6RdN-JXN7ay",
        "outputId": "bc705ffe-fb47-4a7e-f69a-056cbfcaafc7",
        "colab": {
          "base_uri": "https://localhost:8080/",
          "height": 238
        }
      },
      "execution_count": 54,
      "outputs": [
        {
          "output_type": "execute_result",
          "data": {
            "text/html": [
              "\n",
              "  <div id=\"df-3897559c-4d7d-4569-838f-898a2bed7153\">\n",
              "    <div class=\"colab-df-container\">\n",
              "      <div>\n",
              "<style scoped>\n",
              "    .dataframe tbody tr th:only-of-type {\n",
              "        vertical-align: middle;\n",
              "    }\n",
              "\n",
              "    .dataframe tbody tr th {\n",
              "        vertical-align: top;\n",
              "    }\n",
              "\n",
              "    .dataframe thead th {\n",
              "        text-align: right;\n",
              "    }\n",
              "</style>\n",
              "<table border=\"1\" class=\"dataframe\">\n",
              "  <thead>\n",
              "    <tr style=\"text-align: right;\">\n",
              "      <th></th>\n",
              "      <th>video_id</th>\n",
              "      <th>sequence</th>\n",
              "      <th>video_frame</th>\n",
              "      <th>sequence_frame</th>\n",
              "      <th>annotations</th>\n",
              "    </tr>\n",
              "    <tr>\n",
              "      <th>image_id</th>\n",
              "      <th></th>\n",
              "      <th></th>\n",
              "      <th></th>\n",
              "      <th></th>\n",
              "      <th></th>\n",
              "    </tr>\n",
              "  </thead>\n",
              "  <tbody>\n",
              "    <tr>\n",
              "      <th>0-0</th>\n",
              "      <td>0</td>\n",
              "      <td>40258</td>\n",
              "      <td>0</td>\n",
              "      <td>0</td>\n",
              "      <td>[]</td>\n",
              "    </tr>\n",
              "    <tr>\n",
              "      <th>0-1</th>\n",
              "      <td>0</td>\n",
              "      <td>40258</td>\n",
              "      <td>1</td>\n",
              "      <td>1</td>\n",
              "      <td>[]</td>\n",
              "    </tr>\n",
              "    <tr>\n",
              "      <th>0-2</th>\n",
              "      <td>0</td>\n",
              "      <td>40258</td>\n",
              "      <td>2</td>\n",
              "      <td>2</td>\n",
              "      <td>[]</td>\n",
              "    </tr>\n",
              "    <tr>\n",
              "      <th>0-3</th>\n",
              "      <td>0</td>\n",
              "      <td>40258</td>\n",
              "      <td>3</td>\n",
              "      <td>3</td>\n",
              "      <td>[]</td>\n",
              "    </tr>\n",
              "    <tr>\n",
              "      <th>0-4</th>\n",
              "      <td>0</td>\n",
              "      <td>40258</td>\n",
              "      <td>4</td>\n",
              "      <td>4</td>\n",
              "      <td>[]</td>\n",
              "    </tr>\n",
              "  </tbody>\n",
              "</table>\n",
              "</div>\n",
              "      <button class=\"colab-df-convert\" onclick=\"convertToInteractive('df-3897559c-4d7d-4569-838f-898a2bed7153')\"\n",
              "              title=\"Convert this dataframe to an interactive table.\"\n",
              "              style=\"display:none;\">\n",
              "        \n",
              "  <svg xmlns=\"http://www.w3.org/2000/svg\" height=\"24px\"viewBox=\"0 0 24 24\"\n",
              "       width=\"24px\">\n",
              "    <path d=\"M0 0h24v24H0V0z\" fill=\"none\"/>\n",
              "    <path d=\"M18.56 5.44l.94 2.06.94-2.06 2.06-.94-2.06-.94-.94-2.06-.94 2.06-2.06.94zm-11 1L8.5 8.5l.94-2.06 2.06-.94-2.06-.94L8.5 2.5l-.94 2.06-2.06.94zm10 10l.94 2.06.94-2.06 2.06-.94-2.06-.94-.94-2.06-.94 2.06-2.06.94z\"/><path d=\"M17.41 7.96l-1.37-1.37c-.4-.4-.92-.59-1.43-.59-.52 0-1.04.2-1.43.59L10.3 9.45l-7.72 7.72c-.78.78-.78 2.05 0 2.83L4 21.41c.39.39.9.59 1.41.59.51 0 1.02-.2 1.41-.59l7.78-7.78 2.81-2.81c.8-.78.8-2.07 0-2.86zM5.41 20L4 18.59l7.72-7.72 1.47 1.35L5.41 20z\"/>\n",
              "  </svg>\n",
              "      </button>\n",
              "      \n",
              "  <style>\n",
              "    .colab-df-container {\n",
              "      display:flex;\n",
              "      flex-wrap:wrap;\n",
              "      gap: 12px;\n",
              "    }\n",
              "\n",
              "    .colab-df-convert {\n",
              "      background-color: #E8F0FE;\n",
              "      border: none;\n",
              "      border-radius: 50%;\n",
              "      cursor: pointer;\n",
              "      display: none;\n",
              "      fill: #1967D2;\n",
              "      height: 32px;\n",
              "      padding: 0 0 0 0;\n",
              "      width: 32px;\n",
              "    }\n",
              "\n",
              "    .colab-df-convert:hover {\n",
              "      background-color: #E2EBFA;\n",
              "      box-shadow: 0px 1px 2px rgba(60, 64, 67, 0.3), 0px 1px 3px 1px rgba(60, 64, 67, 0.15);\n",
              "      fill: #174EA6;\n",
              "    }\n",
              "\n",
              "    [theme=dark] .colab-df-convert {\n",
              "      background-color: #3B4455;\n",
              "      fill: #D2E3FC;\n",
              "    }\n",
              "\n",
              "    [theme=dark] .colab-df-convert:hover {\n",
              "      background-color: #434B5C;\n",
              "      box-shadow: 0px 1px 3px 1px rgba(0, 0, 0, 0.15);\n",
              "      filter: drop-shadow(0px 1px 2px rgba(0, 0, 0, 0.3));\n",
              "      fill: #FFFFFF;\n",
              "    }\n",
              "  </style>\n",
              "\n",
              "      <script>\n",
              "        const buttonEl =\n",
              "          document.querySelector('#df-3897559c-4d7d-4569-838f-898a2bed7153 button.colab-df-convert');\n",
              "        buttonEl.style.display =\n",
              "          google.colab.kernel.accessAllowed ? 'block' : 'none';\n",
              "\n",
              "        async function convertToInteractive(key) {\n",
              "          const element = document.querySelector('#df-3897559c-4d7d-4569-838f-898a2bed7153');\n",
              "          const dataTable =\n",
              "            await google.colab.kernel.invokeFunction('convertToInteractive',\n",
              "                                                     [key], {});\n",
              "          if (!dataTable) return;\n",
              "\n",
              "          const docLinkHtml = 'Like what you see? Visit the ' +\n",
              "            '<a target=\"_blank\" href=https://colab.research.google.com/notebooks/data_table.ipynb>data table notebook</a>'\n",
              "            + ' to learn more about interactive tables.';\n",
              "          element.innerHTML = '';\n",
              "          dataTable['output_type'] = 'display_data';\n",
              "          await google.colab.output.renderOutput(dataTable, element);\n",
              "          const docLink = document.createElement('div');\n",
              "          docLink.innerHTML = docLinkHtml;\n",
              "          element.appendChild(docLink);\n",
              "        }\n",
              "      </script>\n",
              "    </div>\n",
              "  </div>\n",
              "  "
            ],
            "text/plain": [
              "          video_id  sequence  video_frame  sequence_frame annotations\n",
              "image_id                                                             \n",
              "0-0              0     40258            0               0          []\n",
              "0-1              0     40258            1               1          []\n",
              "0-2              0     40258            2               2          []\n",
              "0-3              0     40258            3               3          []\n",
              "0-4              0     40258            4               4          []"
            ]
          },
          "metadata": {},
          "execution_count": 54
        }
      ]
    },
    {
      "cell_type": "code",
      "source": [
        "img = cv2.imread(\"/content/data/train_images/video_0/978.jpg\")\n",
        "from google.colab.patches import cv2_imshow\n",
        "\n",
        "start_pt = (825, 224)\n",
        "end_pt = (875, 259)\n",
        "color = (0, 0, 255)\n",
        "thickness = 2\n",
        "image = cv2.rectangle(img, start_pt, end_pt, color, thickness)\n",
        "cv2_imshow(image)\n",
        "image.shape"
      ],
      "metadata": {
        "id": "neKoB-MGPHz0"
      },
      "execution_count": null,
      "outputs": []
    },
    {
      "cell_type": "code",
      "source": [
        "import os\n",
        "def txt_data(path):\n",
        "  for folder in os.listdir(path):\n",
        "    path_to_folder = os.path.join(path, folder)\n",
        "    _, video_id = folder.split(\"_\")\n",
        "    \n",
        "    for image in os.listdir(path_to_folder):\n",
        "      path_to_image = os.path.join(path_to_folder, image)\n",
        "      \n",
        "      image_id, _ = image.split(\".\")\n",
        "      image_match = video_id + \"-\" + image_id\n",
        "      \n",
        "      img_temp = cv2.imread(path_to_image)\n",
        "      \n",
        "      height, width, _ = img_temp.shape\n",
        "      image_data = train.loc[image_match]\n",
        "      annotation_list = image_data.annotations\n",
        "      print(annotation_list)\n",
        "\n",
        "      \n",
        "      path_to_file = path_to_folder + \"/\" + image_id + \".txt\"\n",
        "      print(path_to_file)\n",
        "      file_ = open(path_to_file, \"w\")\n",
        "      if bool(annotation_list):\n",
        "        file_.close()\n",
        "        continue\n",
        "      else:\n",
        "        for i in annotation_list:\n",
        "          \n",
        "      break\n",
        "    break\n",
        "\n",
        "txt_data(\"/content/data/train_images\")"
      ],
      "metadata": {
        "id": "qbG2OSf1aOIO",
        "outputId": "9666b8c0-a54b-4b72-b235-9fc372f1e74d",
        "colab": {
          "base_uri": "https://localhost:8080/"
        }
      },
      "execution_count": 65,
      "outputs": [
        {
          "output_type": "stream",
          "name": "stdout",
          "text": [
            "[]\n",
            "/content/data/train_images/video_1/3979.txt\n"
          ]
        }
      ]
    },
    {
      "cell_type": "code",
      "source": [
        "print(bool([]))"
      ],
      "metadata": {
        "id": "T4mO5kkZhB7Q",
        "outputId": "024e4543-109b-4312-c39c-552766d8927b",
        "colab": {
          "base_uri": "https://localhost:8080/"
        }
      },
      "execution_count": 63,
      "outputs": [
        {
          "output_type": "stream",
          "name": "stdout",
          "text": [
            "False\n"
          ]
        }
      ]
    },
    {
      "cell_type": "code",
      "source": [
        ""
      ],
      "metadata": {
        "id": "6dLDC-gghIBg"
      },
      "execution_count": null,
      "outputs": []
    }
  ]
}