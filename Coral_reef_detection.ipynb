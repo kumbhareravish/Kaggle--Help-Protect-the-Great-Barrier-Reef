{
  "nbformat": 4,
  "nbformat_minor": 0,
  "metadata": {
    "colab": {
      "name": "Coral_reef_detection.ipynb",
      "provenance": [],
      "collapsed_sections": []
    },
    "kernelspec": {
      "name": "python3",
      "display_name": "Python 3"
    },
    "language_info": {
      "name": "python"
    }
  },
  "cells": [
    {
      "cell_type": "code",
      "source": [
        "! mkdir -p ~/.kaggle\n",
        "! cp kaggle.json ~/.kaggle/\n",
        "! chmod 600 ~/.kaggle/kaggle.json"
      ],
      "metadata": {
        "id": "IYWmqV6-LZ9y"
      },
      "execution_count": null,
      "outputs": []
    },
    {
      "cell_type": "code",
      "source": [
        "!pip uninstall -y kaggle\n",
        "!pip install --upgrade pip\n",
        "!pip install kaggle==1.5.12"
      ],
      "metadata": {
        "id": "k_CYLT6fNfVH"
      },
      "execution_count": null,
      "outputs": []
    },
    {
      "cell_type": "code",
      "execution_count": null,
      "metadata": {
        "id": "_aRRVELm_PX4",
        "colab": {
          "base_uri": "https://localhost:8080/"
        },
        "outputId": "cec993eb-794b-4230-9976-5c561b5af1a7"
      },
      "outputs": [
        {
          "output_type": "stream",
          "name": "stdout",
          "text": [
            "Downloading tensorflow-great-barrier-reef.zip to /content\n",
            "100% 14.2G/14.2G [05:27<00:00, 36.0MB/s]\n",
            "100% 14.2G/14.2G [05:27<00:00, 46.5MB/s]\n"
          ]
        }
      ],
      "source": [
        "!kaggle competitions download -c tensorflow-great-barrier-reef"
      ]
    },
    {
      "cell_type": "code",
      "source": [
        "!unzip /content/tensorflow-great-barrier-reef.zip -d /content/data"
      ],
      "metadata": {
        "id": "qCpztUeUAjq8"
      },
      "execution_count": null,
      "outputs": []
    }
  ]
}